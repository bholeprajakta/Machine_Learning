{
 "cells": [
  {
   "cell_type": "markdown",
   "id": "bffeeb44",
   "metadata": {},
   "source": [
    "# Problem Statement 2:"
   ]
  },
  {
   "cell_type": "markdown",
   "id": "28e40b95",
   "metadata": {},
   "source": [
    "# Importing libraries and dataset"
   ]
  },
  {
   "cell_type": "code",
   "execution_count": 1,
   "id": "d5768a05",
   "metadata": {},
   "outputs": [],
   "source": [
    "import pandas as pd\n",
    "import numpy as np\n",
    "import matplotlib.pyplot as plt\n",
    "import seaborn as sns"
   ]
  },
  {
   "cell_type": "code",
   "execution_count": 2,
   "id": "26d026fa",
   "metadata": {},
   "outputs": [],
   "source": [
    "df=pd.read_excel(\"E:\\datascience\\MACHINE LEARNING\\ML_Exam\\data_final.xlsx\")"
   ]
  },
  {
   "cell_type": "code",
   "execution_count": 3,
   "id": "3dd694bb",
   "metadata": {},
   "outputs": [
    {
     "data": {
      "text/html": [
       "<div>\n",
       "<style scoped>\n",
       "    .dataframe tbody tr th:only-of-type {\n",
       "        vertical-align: middle;\n",
       "    }\n",
       "\n",
       "    .dataframe tbody tr th {\n",
       "        vertical-align: top;\n",
       "    }\n",
       "\n",
       "    .dataframe thead th {\n",
       "        text-align: right;\n",
       "    }\n",
       "</style>\n",
       "<table border=\"1\" class=\"dataframe\">\n",
       "  <thead>\n",
       "    <tr style=\"text-align: right;\">\n",
       "      <th></th>\n",
       "      <th>observation</th>\n",
       "      <th>feature</th>\n",
       "      <th>price</th>\n",
       "    </tr>\n",
       "  </thead>\n",
       "  <tbody>\n",
       "    <tr>\n",
       "      <th>0</th>\n",
       "      <td>0.44</td>\n",
       "      <td>0.68</td>\n",
       "      <td>511.14</td>\n",
       "    </tr>\n",
       "    <tr>\n",
       "      <th>1</th>\n",
       "      <td>0.99</td>\n",
       "      <td>0.23</td>\n",
       "      <td>717.10</td>\n",
       "    </tr>\n",
       "    <tr>\n",
       "      <th>2</th>\n",
       "      <td>0.84</td>\n",
       "      <td>0.29</td>\n",
       "      <td>607.91</td>\n",
       "    </tr>\n",
       "    <tr>\n",
       "      <th>3</th>\n",
       "      <td>0.28</td>\n",
       "      <td>0.45</td>\n",
       "      <td>270.40</td>\n",
       "    </tr>\n",
       "    <tr>\n",
       "      <th>4</th>\n",
       "      <td>0.07</td>\n",
       "      <td>0.83</td>\n",
       "      <td>289.88</td>\n",
       "    </tr>\n",
       "  </tbody>\n",
       "</table>\n",
       "</div>"
      ],
      "text/plain": [
       "   observation  feature   price\n",
       "0         0.44     0.68  511.14\n",
       "1         0.99     0.23  717.10\n",
       "2         0.84     0.29  607.91\n",
       "3         0.28     0.45  270.40\n",
       "4         0.07     0.83  289.88"
      ]
     },
     "execution_count": 3,
     "metadata": {},
     "output_type": "execute_result"
    }
   ],
   "source": [
    "df.head()"
   ]
  },
  {
   "cell_type": "code",
   "execution_count": 4,
   "id": "ee0674b1",
   "metadata": {},
   "outputs": [
    {
     "data": {
      "text/plain": [
       "(100, 3)"
      ]
     },
     "execution_count": 4,
     "metadata": {},
     "output_type": "execute_result"
    }
   ],
   "source": [
    "df.shape"
   ]
  },
  {
   "cell_type": "raw",
   "id": "241edb10",
   "metadata": {},
   "source": [
    "there are 100 rows and 3 columns in dataset"
   ]
  },
  {
   "cell_type": "code",
   "execution_count": 5,
   "id": "2987fba7",
   "metadata": {},
   "outputs": [
    {
     "name": "stdout",
     "output_type": "stream",
     "text": [
      "<class 'pandas.core.frame.DataFrame'>\n",
      "RangeIndex: 100 entries, 0 to 99\n",
      "Data columns (total 3 columns):\n",
      " #   Column       Non-Null Count  Dtype  \n",
      "---  ------       --------------  -----  \n",
      " 0   observation  100 non-null    float64\n",
      " 1   feature      100 non-null    float64\n",
      " 2   price        100 non-null    float64\n",
      "dtypes: float64(3)\n",
      "memory usage: 2.5 KB\n"
     ]
    }
   ],
   "source": [
    "df.info()"
   ]
  },
  {
   "cell_type": "code",
   "execution_count": 6,
   "id": "6276c07f",
   "metadata": {},
   "outputs": [
    {
     "data": {
      "text/html": [
       "<div>\n",
       "<style scoped>\n",
       "    .dataframe tbody tr th:only-of-type {\n",
       "        vertical-align: middle;\n",
       "    }\n",
       "\n",
       "    .dataframe tbody tr th {\n",
       "        vertical-align: top;\n",
       "    }\n",
       "\n",
       "    .dataframe thead th {\n",
       "        text-align: right;\n",
       "    }\n",
       "</style>\n",
       "<table border=\"1\" class=\"dataframe\">\n",
       "  <thead>\n",
       "    <tr style=\"text-align: right;\">\n",
       "      <th></th>\n",
       "      <th>observation</th>\n",
       "      <th>feature</th>\n",
       "      <th>price</th>\n",
       "    </tr>\n",
       "  </thead>\n",
       "  <tbody>\n",
       "    <tr>\n",
       "      <th>count</th>\n",
       "      <td>100.000000</td>\n",
       "      <td>100.000000</td>\n",
       "      <td>100.000000</td>\n",
       "    </tr>\n",
       "    <tr>\n",
       "      <th>mean</th>\n",
       "      <td>0.550300</td>\n",
       "      <td>0.501700</td>\n",
       "      <td>554.214600</td>\n",
       "    </tr>\n",
       "    <tr>\n",
       "      <th>std</th>\n",
       "      <td>0.293841</td>\n",
       "      <td>0.307124</td>\n",
       "      <td>347.312796</td>\n",
       "    </tr>\n",
       "    <tr>\n",
       "      <th>min</th>\n",
       "      <td>0.010000</td>\n",
       "      <td>0.000000</td>\n",
       "      <td>42.080000</td>\n",
       "    </tr>\n",
       "    <tr>\n",
       "      <th>25%</th>\n",
       "      <td>0.300000</td>\n",
       "      <td>0.230000</td>\n",
       "      <td>278.172500</td>\n",
       "    </tr>\n",
       "    <tr>\n",
       "      <th>50%</th>\n",
       "      <td>0.570000</td>\n",
       "      <td>0.485000</td>\n",
       "      <td>514.285000</td>\n",
       "    </tr>\n",
       "    <tr>\n",
       "      <th>75%</th>\n",
       "      <td>0.822500</td>\n",
       "      <td>0.760000</td>\n",
       "      <td>751.752500</td>\n",
       "    </tr>\n",
       "    <tr>\n",
       "      <th>max</th>\n",
       "      <td>1.000000</td>\n",
       "      <td>0.990000</td>\n",
       "      <td>1563.820000</td>\n",
       "    </tr>\n",
       "  </tbody>\n",
       "</table>\n",
       "</div>"
      ],
      "text/plain": [
       "       observation     feature        price\n",
       "count   100.000000  100.000000   100.000000\n",
       "mean      0.550300    0.501700   554.214600\n",
       "std       0.293841    0.307124   347.312796\n",
       "min       0.010000    0.000000    42.080000\n",
       "25%       0.300000    0.230000   278.172500\n",
       "50%       0.570000    0.485000   514.285000\n",
       "75%       0.822500    0.760000   751.752500\n",
       "max       1.000000    0.990000  1563.820000"
      ]
     },
     "execution_count": 6,
     "metadata": {},
     "output_type": "execute_result"
    }
   ],
   "source": [
    "df.describe()"
   ]
  },
  {
   "cell_type": "markdown",
   "id": "1830b6dc",
   "metadata": {},
   "source": [
    "# Data preprocessing"
   ]
  },
  {
   "cell_type": "code",
   "execution_count": 7,
   "id": "4aeaf1f3",
   "metadata": {},
   "outputs": [
    {
     "data": {
      "text/plain": [
       "observation     65\n",
       "feature         61\n",
       "price          100\n",
       "dtype: int64"
      ]
     },
     "execution_count": 7,
     "metadata": {},
     "output_type": "execute_result"
    }
   ],
   "source": [
    "df.nunique()"
   ]
  },
  {
   "cell_type": "raw",
   "id": "eb56d508",
   "metadata": {},
   "source": [
    "independent variable=feature\n",
    "dependent variable=price"
   ]
  },
  {
   "cell_type": "code",
   "execution_count": 8,
   "id": "28e674f4",
   "metadata": {},
   "outputs": [
    {
     "data": {
      "text/plain": [
       "array([[0.68],\n",
       "       [0.23],\n",
       "       [0.29],\n",
       "       [0.45],\n",
       "       [0.83],\n",
       "       [0.8 ],\n",
       "       [0.92],\n",
       "       [0.43],\n",
       "       [0.89],\n",
       "       [0.95],\n",
       "       [0.06],\n",
       "       [0.91],\n",
       "       [0.69],\n",
       "       [0.94],\n",
       "       [0.06],\n",
       "       [0.17],\n",
       "       [0.66],\n",
       "       [0.43],\n",
       "       [0.64],\n",
       "       [0.44],\n",
       "       [0.93],\n",
       "       [0.43],\n",
       "       [0.85],\n",
       "       [0.07],\n",
       "       [0.52],\n",
       "       [0.15],\n",
       "       [0.13],\n",
       "       [0.6 ],\n",
       "       [0.4 ],\n",
       "       [0.65],\n",
       "       [0.17],\n",
       "       [0.97],\n",
       "       [0.04],\n",
       "       [0.53],\n",
       "       [0.85],\n",
       "       [0.69],\n",
       "       [0.22],\n",
       "       [0.15],\n",
       "       [0.02],\n",
       "       [0.91],\n",
       "       [0.76],\n",
       "       [0.19],\n",
       "       [0.62],\n",
       "       [0.17],\n",
       "       [0.69],\n",
       "       [0.76],\n",
       "       [0.23],\n",
       "       [0.96],\n",
       "       [0.03],\n",
       "       [0.23],\n",
       "       [0.11],\n",
       "       [0.87],\n",
       "       [0.97],\n",
       "       [0.25],\n",
       "       [0.58],\n",
       "       [0.42],\n",
       "       [0.24],\n",
       "       [0.62],\n",
       "       [0.15],\n",
       "       [0.95],\n",
       "       [0.64],\n",
       "       [0.64],\n",
       "       [0.4 ],\n",
       "       [0.12],\n",
       "       [0.22],\n",
       "       [0.4 ],\n",
       "       [0.87],\n",
       "       [0.99],\n",
       "       [0.26],\n",
       "       [0.12],\n",
       "       [0.28],\n",
       "       [0.48],\n",
       "       [0.56],\n",
       "       [0.03],\n",
       "       [0.34],\n",
       "       [0.99],\n",
       "       [0.66],\n",
       "       [0.65],\n",
       "       [0.94],\n",
       "       [0.96],\n",
       "       [0.42],\n",
       "       [0.62],\n",
       "       [0.57],\n",
       "       [0.61],\n",
       "       [0.  ],\n",
       "       [0.3 ],\n",
       "       [0.08],\n",
       "       [0.49],\n",
       "       [0.01],\n",
       "       [0.23],\n",
       "       [0.94],\n",
       "       [0.98],\n",
       "       [0.68],\n",
       "       [0.46],\n",
       "       [0.5 ],\n",
       "       [0.13],\n",
       "       [0.46],\n",
       "       [0.36],\n",
       "       [0.87],\n",
       "       [0.36]])"
      ]
     },
     "execution_count": 8,
     "metadata": {},
     "output_type": "execute_result"
    }
   ],
   "source": [
    "#independent variable\n",
    "x=df.iloc[:,1:-1].values\n",
    "x=x.reshape(-1,1)\n",
    "x"
   ]
  },
  {
   "cell_type": "code",
   "execution_count": 9,
   "id": "5802e1e2",
   "metadata": {},
   "outputs": [
    {
     "data": {
      "text/plain": [
       "array([ 511.14,  717.1 ,  607.91,  270.4 ,  289.88,  830.85, 1038.09,\n",
       "        455.19,  640.17,  511.06,  177.03, 1242.52,  891.37, 1339.72,\n",
       "        169.88,  276.05,  517.43,  522.25,  932.21,  851.25,  640.11,\n",
       "        308.68, 1046.05,  332.4 ,  171.85,  109.55,  361.97,  872.21,\n",
       "        303.7 ,  256.38,  341.2 , 1194.63,  408.6 ,  895.54,  518.25,\n",
       "        638.75,  301.9 ,  163.38,  240.77, 1449.05,  609.  ,  174.59,\n",
       "        593.45,  355.96,  671.46, 1193.7 ,  278.88,  411.4 ,   42.08,\n",
       "        166.19,   58.62,  642.45,  368.14,  702.78,  615.74,  143.79,\n",
       "        109.  ,  328.28,  205.16, 1360.49,  905.83,  487.33,  202.76,\n",
       "        202.01,  148.87,  745.3 ,  503.04, 1563.82,  165.21,  438.4 ,\n",
       "         98.47,  819.63,  174.44,  483.13,  534.24,  572.31,  957.61,\n",
       "        518.29, 1143.49, 1211.31,  784.74,  283.7 ,  684.38,  719.46,\n",
       "        292.23,  775.68,  130.77,  801.6 ,  323.55,  726.9 ,  661.12,\n",
       "        771.11, 1016.14,  237.69,  325.89,  636.22,  272.12,  696.65,\n",
       "        434.53,  593.86])"
      ]
     },
     "execution_count": 9,
     "metadata": {},
     "output_type": "execute_result"
    }
   ],
   "source": [
    "#dependent variable\n",
    "y=df.iloc[:,-1].values\n",
    "y"
   ]
  },
  {
   "cell_type": "markdown",
   "id": "1c6dd778",
   "metadata": {},
   "source": [
    "### Spliting the data"
   ]
  },
  {
   "cell_type": "raw",
   "id": "7dd2623d",
   "metadata": {},
   "source": [
    "from sklearn.model_selection import train_test_split\n",
    "x_train,x_test,y_train,y_test=train_test_split(x,y,test_size=0.2,random_state=0)"
   ]
  },
  {
   "cell_type": "markdown",
   "id": "deeb26a1",
   "metadata": {},
   "source": [
    "### Model building"
   ]
  },
  {
   "cell_type": "code",
   "execution_count": 10,
   "id": "75593631",
   "metadata": {},
   "outputs": [],
   "source": [
    "from sklearn.linear_model import LinearRegression\n",
    "from sklearn.preprocessing import PolynomialFeatures\n",
    "p_reg=PolynomialFeatures(degree=4)\n",
    "x_poly=p_reg.fit_transform(x)"
   ]
  },
  {
   "cell_type": "code",
   "execution_count": 11,
   "id": "c4d926ec",
   "metadata": {},
   "outputs": [
    {
     "data": {
      "text/plain": [
       "array([[1.0000000e+00, 6.8000000e-01, 4.6240000e-01, 3.1443200e-01,\n",
       "        2.1381376e-01],\n",
       "       [1.0000000e+00, 2.3000000e-01, 5.2900000e-02, 1.2167000e-02,\n",
       "        2.7984100e-03],\n",
       "       [1.0000000e+00, 2.9000000e-01, 8.4100000e-02, 2.4389000e-02,\n",
       "        7.0728100e-03],\n",
       "       [1.0000000e+00, 4.5000000e-01, 2.0250000e-01, 9.1125000e-02,\n",
       "        4.1006250e-02],\n",
       "       [1.0000000e+00, 8.3000000e-01, 6.8890000e-01, 5.7178700e-01,\n",
       "        4.7458321e-01],\n",
       "       [1.0000000e+00, 8.0000000e-01, 6.4000000e-01, 5.1200000e-01,\n",
       "        4.0960000e-01],\n",
       "       [1.0000000e+00, 9.2000000e-01, 8.4640000e-01, 7.7868800e-01,\n",
       "        7.1639296e-01],\n",
       "       [1.0000000e+00, 4.3000000e-01, 1.8490000e-01, 7.9507000e-02,\n",
       "        3.4188010e-02],\n",
       "       [1.0000000e+00, 8.9000000e-01, 7.9210000e-01, 7.0496900e-01,\n",
       "        6.2742241e-01],\n",
       "       [1.0000000e+00, 9.5000000e-01, 9.0250000e-01, 8.5737500e-01,\n",
       "        8.1450625e-01],\n",
       "       [1.0000000e+00, 6.0000000e-02, 3.6000000e-03, 2.1600000e-04,\n",
       "        1.2960000e-05],\n",
       "       [1.0000000e+00, 9.1000000e-01, 8.2810000e-01, 7.5357100e-01,\n",
       "        6.8574961e-01],\n",
       "       [1.0000000e+00, 6.9000000e-01, 4.7610000e-01, 3.2850900e-01,\n",
       "        2.2667121e-01],\n",
       "       [1.0000000e+00, 9.4000000e-01, 8.8360000e-01, 8.3058400e-01,\n",
       "        7.8074896e-01],\n",
       "       [1.0000000e+00, 6.0000000e-02, 3.6000000e-03, 2.1600000e-04,\n",
       "        1.2960000e-05],\n",
       "       [1.0000000e+00, 1.7000000e-01, 2.8900000e-02, 4.9130000e-03,\n",
       "        8.3521000e-04],\n",
       "       [1.0000000e+00, 6.6000000e-01, 4.3560000e-01, 2.8749600e-01,\n",
       "        1.8974736e-01],\n",
       "       [1.0000000e+00, 4.3000000e-01, 1.8490000e-01, 7.9507000e-02,\n",
       "        3.4188010e-02],\n",
       "       [1.0000000e+00, 6.4000000e-01, 4.0960000e-01, 2.6214400e-01,\n",
       "        1.6777216e-01],\n",
       "       [1.0000000e+00, 4.4000000e-01, 1.9360000e-01, 8.5184000e-02,\n",
       "        3.7480960e-02],\n",
       "       [1.0000000e+00, 9.3000000e-01, 8.6490000e-01, 8.0435700e-01,\n",
       "        7.4805201e-01],\n",
       "       [1.0000000e+00, 4.3000000e-01, 1.8490000e-01, 7.9507000e-02,\n",
       "        3.4188010e-02],\n",
       "       [1.0000000e+00, 8.5000000e-01, 7.2250000e-01, 6.1412500e-01,\n",
       "        5.2200625e-01],\n",
       "       [1.0000000e+00, 7.0000000e-02, 4.9000000e-03, 3.4300000e-04,\n",
       "        2.4010000e-05],\n",
       "       [1.0000000e+00, 5.2000000e-01, 2.7040000e-01, 1.4060800e-01,\n",
       "        7.3116160e-02],\n",
       "       [1.0000000e+00, 1.5000000e-01, 2.2500000e-02, 3.3750000e-03,\n",
       "        5.0625000e-04],\n",
       "       [1.0000000e+00, 1.3000000e-01, 1.6900000e-02, 2.1970000e-03,\n",
       "        2.8561000e-04],\n",
       "       [1.0000000e+00, 6.0000000e-01, 3.6000000e-01, 2.1600000e-01,\n",
       "        1.2960000e-01],\n",
       "       [1.0000000e+00, 4.0000000e-01, 1.6000000e-01, 6.4000000e-02,\n",
       "        2.5600000e-02],\n",
       "       [1.0000000e+00, 6.5000000e-01, 4.2250000e-01, 2.7462500e-01,\n",
       "        1.7850625e-01],\n",
       "       [1.0000000e+00, 1.7000000e-01, 2.8900000e-02, 4.9130000e-03,\n",
       "        8.3521000e-04],\n",
       "       [1.0000000e+00, 9.7000000e-01, 9.4090000e-01, 9.1267300e-01,\n",
       "        8.8529281e-01],\n",
       "       [1.0000000e+00, 4.0000000e-02, 1.6000000e-03, 6.4000000e-05,\n",
       "        2.5600000e-06],\n",
       "       [1.0000000e+00, 5.3000000e-01, 2.8090000e-01, 1.4887700e-01,\n",
       "        7.8904810e-02],\n",
       "       [1.0000000e+00, 8.5000000e-01, 7.2250000e-01, 6.1412500e-01,\n",
       "        5.2200625e-01],\n",
       "       [1.0000000e+00, 6.9000000e-01, 4.7610000e-01, 3.2850900e-01,\n",
       "        2.2667121e-01],\n",
       "       [1.0000000e+00, 2.2000000e-01, 4.8400000e-02, 1.0648000e-02,\n",
       "        2.3425600e-03],\n",
       "       [1.0000000e+00, 1.5000000e-01, 2.2500000e-02, 3.3750000e-03,\n",
       "        5.0625000e-04],\n",
       "       [1.0000000e+00, 2.0000000e-02, 4.0000000e-04, 8.0000000e-06,\n",
       "        1.6000000e-07],\n",
       "       [1.0000000e+00, 9.1000000e-01, 8.2810000e-01, 7.5357100e-01,\n",
       "        6.8574961e-01],\n",
       "       [1.0000000e+00, 7.6000000e-01, 5.7760000e-01, 4.3897600e-01,\n",
       "        3.3362176e-01],\n",
       "       [1.0000000e+00, 1.9000000e-01, 3.6100000e-02, 6.8590000e-03,\n",
       "        1.3032100e-03],\n",
       "       [1.0000000e+00, 6.2000000e-01, 3.8440000e-01, 2.3832800e-01,\n",
       "        1.4776336e-01],\n",
       "       [1.0000000e+00, 1.7000000e-01, 2.8900000e-02, 4.9130000e-03,\n",
       "        8.3521000e-04],\n",
       "       [1.0000000e+00, 6.9000000e-01, 4.7610000e-01, 3.2850900e-01,\n",
       "        2.2667121e-01],\n",
       "       [1.0000000e+00, 7.6000000e-01, 5.7760000e-01, 4.3897600e-01,\n",
       "        3.3362176e-01],\n",
       "       [1.0000000e+00, 2.3000000e-01, 5.2900000e-02, 1.2167000e-02,\n",
       "        2.7984100e-03],\n",
       "       [1.0000000e+00, 9.6000000e-01, 9.2160000e-01, 8.8473600e-01,\n",
       "        8.4934656e-01],\n",
       "       [1.0000000e+00, 3.0000000e-02, 9.0000000e-04, 2.7000000e-05,\n",
       "        8.1000000e-07],\n",
       "       [1.0000000e+00, 2.3000000e-01, 5.2900000e-02, 1.2167000e-02,\n",
       "        2.7984100e-03],\n",
       "       [1.0000000e+00, 1.1000000e-01, 1.2100000e-02, 1.3310000e-03,\n",
       "        1.4641000e-04],\n",
       "       [1.0000000e+00, 8.7000000e-01, 7.5690000e-01, 6.5850300e-01,\n",
       "        5.7289761e-01],\n",
       "       [1.0000000e+00, 9.7000000e-01, 9.4090000e-01, 9.1267300e-01,\n",
       "        8.8529281e-01],\n",
       "       [1.0000000e+00, 2.5000000e-01, 6.2500000e-02, 1.5625000e-02,\n",
       "        3.9062500e-03],\n",
       "       [1.0000000e+00, 5.8000000e-01, 3.3640000e-01, 1.9511200e-01,\n",
       "        1.1316496e-01],\n",
       "       [1.0000000e+00, 4.2000000e-01, 1.7640000e-01, 7.4088000e-02,\n",
       "        3.1116960e-02],\n",
       "       [1.0000000e+00, 2.4000000e-01, 5.7600000e-02, 1.3824000e-02,\n",
       "        3.3177600e-03],\n",
       "       [1.0000000e+00, 6.2000000e-01, 3.8440000e-01, 2.3832800e-01,\n",
       "        1.4776336e-01],\n",
       "       [1.0000000e+00, 1.5000000e-01, 2.2500000e-02, 3.3750000e-03,\n",
       "        5.0625000e-04],\n",
       "       [1.0000000e+00, 9.5000000e-01, 9.0250000e-01, 8.5737500e-01,\n",
       "        8.1450625e-01],\n",
       "       [1.0000000e+00, 6.4000000e-01, 4.0960000e-01, 2.6214400e-01,\n",
       "        1.6777216e-01],\n",
       "       [1.0000000e+00, 6.4000000e-01, 4.0960000e-01, 2.6214400e-01,\n",
       "        1.6777216e-01],\n",
       "       [1.0000000e+00, 4.0000000e-01, 1.6000000e-01, 6.4000000e-02,\n",
       "        2.5600000e-02],\n",
       "       [1.0000000e+00, 1.2000000e-01, 1.4400000e-02, 1.7280000e-03,\n",
       "        2.0736000e-04],\n",
       "       [1.0000000e+00, 2.2000000e-01, 4.8400000e-02, 1.0648000e-02,\n",
       "        2.3425600e-03],\n",
       "       [1.0000000e+00, 4.0000000e-01, 1.6000000e-01, 6.4000000e-02,\n",
       "        2.5600000e-02],\n",
       "       [1.0000000e+00, 8.7000000e-01, 7.5690000e-01, 6.5850300e-01,\n",
       "        5.7289761e-01],\n",
       "       [1.0000000e+00, 9.9000000e-01, 9.8010000e-01, 9.7029900e-01,\n",
       "        9.6059601e-01],\n",
       "       [1.0000000e+00, 2.6000000e-01, 6.7600000e-02, 1.7576000e-02,\n",
       "        4.5697600e-03],\n",
       "       [1.0000000e+00, 1.2000000e-01, 1.4400000e-02, 1.7280000e-03,\n",
       "        2.0736000e-04],\n",
       "       [1.0000000e+00, 2.8000000e-01, 7.8400000e-02, 2.1952000e-02,\n",
       "        6.1465600e-03],\n",
       "       [1.0000000e+00, 4.8000000e-01, 2.3040000e-01, 1.1059200e-01,\n",
       "        5.3084160e-02],\n",
       "       [1.0000000e+00, 5.6000000e-01, 3.1360000e-01, 1.7561600e-01,\n",
       "        9.8344960e-02],\n",
       "       [1.0000000e+00, 3.0000000e-02, 9.0000000e-04, 2.7000000e-05,\n",
       "        8.1000000e-07],\n",
       "       [1.0000000e+00, 3.4000000e-01, 1.1560000e-01, 3.9304000e-02,\n",
       "        1.3363360e-02],\n",
       "       [1.0000000e+00, 9.9000000e-01, 9.8010000e-01, 9.7029900e-01,\n",
       "        9.6059601e-01],\n",
       "       [1.0000000e+00, 6.6000000e-01, 4.3560000e-01, 2.8749600e-01,\n",
       "        1.8974736e-01],\n",
       "       [1.0000000e+00, 6.5000000e-01, 4.2250000e-01, 2.7462500e-01,\n",
       "        1.7850625e-01],\n",
       "       [1.0000000e+00, 9.4000000e-01, 8.8360000e-01, 8.3058400e-01,\n",
       "        7.8074896e-01],\n",
       "       [1.0000000e+00, 9.6000000e-01, 9.2160000e-01, 8.8473600e-01,\n",
       "        8.4934656e-01],\n",
       "       [1.0000000e+00, 4.2000000e-01, 1.7640000e-01, 7.4088000e-02,\n",
       "        3.1116960e-02],\n",
       "       [1.0000000e+00, 6.2000000e-01, 3.8440000e-01, 2.3832800e-01,\n",
       "        1.4776336e-01],\n",
       "       [1.0000000e+00, 5.7000000e-01, 3.2490000e-01, 1.8519300e-01,\n",
       "        1.0556001e-01],\n",
       "       [1.0000000e+00, 6.1000000e-01, 3.7210000e-01, 2.2698100e-01,\n",
       "        1.3845841e-01],\n",
       "       [1.0000000e+00, 0.0000000e+00, 0.0000000e+00, 0.0000000e+00,\n",
       "        0.0000000e+00],\n",
       "       [1.0000000e+00, 3.0000000e-01, 9.0000000e-02, 2.7000000e-02,\n",
       "        8.1000000e-03],\n",
       "       [1.0000000e+00, 8.0000000e-02, 6.4000000e-03, 5.1200000e-04,\n",
       "        4.0960000e-05],\n",
       "       [1.0000000e+00, 4.9000000e-01, 2.4010000e-01, 1.1764900e-01,\n",
       "        5.7648010e-02],\n",
       "       [1.0000000e+00, 1.0000000e-02, 1.0000000e-04, 1.0000000e-06,\n",
       "        1.0000000e-08],\n",
       "       [1.0000000e+00, 2.3000000e-01, 5.2900000e-02, 1.2167000e-02,\n",
       "        2.7984100e-03],\n",
       "       [1.0000000e+00, 9.4000000e-01, 8.8360000e-01, 8.3058400e-01,\n",
       "        7.8074896e-01],\n",
       "       [1.0000000e+00, 9.8000000e-01, 9.6040000e-01, 9.4119200e-01,\n",
       "        9.2236816e-01],\n",
       "       [1.0000000e+00, 6.8000000e-01, 4.6240000e-01, 3.1443200e-01,\n",
       "        2.1381376e-01],\n",
       "       [1.0000000e+00, 4.6000000e-01, 2.1160000e-01, 9.7336000e-02,\n",
       "        4.4774560e-02],\n",
       "       [1.0000000e+00, 5.0000000e-01, 2.5000000e-01, 1.2500000e-01,\n",
       "        6.2500000e-02],\n",
       "       [1.0000000e+00, 1.3000000e-01, 1.6900000e-02, 2.1970000e-03,\n",
       "        2.8561000e-04],\n",
       "       [1.0000000e+00, 4.6000000e-01, 2.1160000e-01, 9.7336000e-02,\n",
       "        4.4774560e-02],\n",
       "       [1.0000000e+00, 3.6000000e-01, 1.2960000e-01, 4.6656000e-02,\n",
       "        1.6796160e-02],\n",
       "       [1.0000000e+00, 8.7000000e-01, 7.5690000e-01, 6.5850300e-01,\n",
       "        5.7289761e-01],\n",
       "       [1.0000000e+00, 3.6000000e-01, 1.2960000e-01, 4.6656000e-02,\n",
       "        1.6796160e-02]])"
      ]
     },
     "execution_count": 11,
     "metadata": {},
     "output_type": "execute_result"
    }
   ],
   "source": [
    "x_poly"
   ]
  },
  {
   "cell_type": "code",
   "execution_count": 12,
   "id": "da1ca3e3",
   "metadata": {},
   "outputs": [
    {
     "data": {
      "text/plain": [
       "LinearRegression()"
      ]
     },
     "execution_count": 12,
     "metadata": {},
     "output_type": "execute_result"
    }
   ],
   "source": [
    "#linear regression\n",
    "model1=LinearRegression()\n",
    "model1.fit(x,y)\n",
    "model1"
   ]
  },
  {
   "cell_type": "code",
   "execution_count": 13,
   "id": "bcfa613a",
   "metadata": {},
   "outputs": [
    {
     "data": {
      "text/plain": [
       "LinearRegression()"
      ]
     },
     "execution_count": 13,
     "metadata": {},
     "output_type": "execute_result"
    }
   ],
   "source": [
    "#polynomial regression\n",
    "model2=LinearRegression()\n",
    "model2.fit(x_poly,y)\n",
    "model2"
   ]
  },
  {
   "cell_type": "markdown",
   "id": "60af97d0",
   "metadata": {},
   "source": [
    "### Prediction"
   ]
  },
  {
   "cell_type": "raw",
   "id": "cd8a48e9",
   "metadata": {},
   "source": [
    "y_pred=model2.predict(p_reg.fit_transform(x_test))\n",
    "y_pred"
   ]
  },
  {
   "cell_type": "markdown",
   "id": "2f4ea32f",
   "metadata": {},
   "source": [
    "### scatter the points and plot the graph of training dataset"
   ]
  },
  {
   "cell_type": "code",
   "execution_count": 14,
   "id": "3c5a7320",
   "metadata": {},
   "outputs": [
    {
     "data": {
      "text/plain": [
       "[<matplotlib.lines.Line2D at 0x179bc6739d0>]"
      ]
     },
     "execution_count": 14,
     "metadata": {},
     "output_type": "execute_result"
    },
    {
     "data": {
      "image/png": "[encoded data removed]",
      "text/plain": [
       "<Figure size 640x480 with 1 Axes>"
      ]
     },
     "metadata": {},
     "output_type": "display_data"
    }
   ],
   "source": [
    "#linear regression\n",
    "plt.scatter(x,y,c='b')\n",
    "plt.plot(x,model1.predict(x),c='r')"
   ]
  },
  {
   "cell_type": "code",
   "execution_count": 15,
   "id": "d70c0eb2",
   "metadata": {},
   "outputs": [
    {
     "data": {
      "text/plain": [
       "[<matplotlib.lines.Line2D at 0x179bc6d27f0>]"
      ]
     },
     "execution_count": 15,
     "metadata": {},
     "output_type": "execute_result"
    },
    {
     "data": {
      "image/png": "[encoded data removed]",
      "text/plain": [
       "<Figure size 640x480 with 1 Axes>"
      ]
     },
     "metadata": {},
     "output_type": "display_data"
    }
   ],
   "source": [
    "#polynomial regression\n",
    "plt.scatter(x,y,c='b')\n",
    "plt.plot(x,model2.predict(p_reg.fit_transform(x)),c='r')"
   ]
  },
  {
   "cell_type": "raw",
   "id": "7162c16f",
   "metadata": {},
   "source": [
    "independent variable=Observation\n",
    "dependent variable=price"
   ]
  },
  {
   "cell_type": "code",
   "execution_count": 16,
   "id": "00f47311",
   "metadata": {},
   "outputs": [
    {
     "data": {
      "text/html": [
       "<div>\n",
       "<style scoped>\n",
       "    .dataframe tbody tr th:only-of-type {\n",
       "        vertical-align: middle;\n",
       "    }\n",
       "\n",
       "    .dataframe tbody tr th {\n",
       "        vertical-align: top;\n",
       "    }\n",
       "\n",
       "    .dataframe thead th {\n",
       "        text-align: right;\n",
       "    }\n",
       "</style>\n",
       "<table border=\"1\" class=\"dataframe\">\n",
       "  <thead>\n",
       "    <tr style=\"text-align: right;\">\n",
       "      <th></th>\n",
       "      <th>observation</th>\n",
       "      <th>feature</th>\n",
       "      <th>price</th>\n",
       "    </tr>\n",
       "  </thead>\n",
       "  <tbody>\n",
       "    <tr>\n",
       "      <th>0</th>\n",
       "      <td>0.44</td>\n",
       "      <td>0.68</td>\n",
       "      <td>511.14</td>\n",
       "    </tr>\n",
       "    <tr>\n",
       "      <th>1</th>\n",
       "      <td>0.99</td>\n",
       "      <td>0.23</td>\n",
       "      <td>717.10</td>\n",
       "    </tr>\n",
       "    <tr>\n",
       "      <th>2</th>\n",
       "      <td>0.84</td>\n",
       "      <td>0.29</td>\n",
       "      <td>607.91</td>\n",
       "    </tr>\n",
       "    <tr>\n",
       "      <th>3</th>\n",
       "      <td>0.28</td>\n",
       "      <td>0.45</td>\n",
       "      <td>270.40</td>\n",
       "    </tr>\n",
       "    <tr>\n",
       "      <th>4</th>\n",
       "      <td>0.07</td>\n",
       "      <td>0.83</td>\n",
       "      <td>289.88</td>\n",
       "    </tr>\n",
       "  </tbody>\n",
       "</table>\n",
       "</div>"
      ],
      "text/plain": [
       "   observation  feature   price\n",
       "0         0.44     0.68  511.14\n",
       "1         0.99     0.23  717.10\n",
       "2         0.84     0.29  607.91\n",
       "3         0.28     0.45  270.40\n",
       "4         0.07     0.83  289.88"
      ]
     },
     "execution_count": 16,
     "metadata": {},
     "output_type": "execute_result"
    }
   ],
   "source": [
    "df.head()"
   ]
  },
  {
   "cell_type": "code",
   "execution_count": 17,
   "id": "cf307349",
   "metadata": {},
   "outputs": [
    {
     "data": {
      "text/plain": [
       "array([[0.68],\n",
       "       [0.23],\n",
       "       [0.29],\n",
       "       [0.45],\n",
       "       [0.83],\n",
       "       [0.8 ],\n",
       "       [0.92],\n",
       "       [0.43],\n",
       "       [0.89],\n",
       "       [0.95],\n",
       "       [0.06],\n",
       "       [0.91],\n",
       "       [0.69],\n",
       "       [0.94],\n",
       "       [0.06],\n",
       "       [0.17],\n",
       "       [0.66],\n",
       "       [0.43],\n",
       "       [0.64],\n",
       "       [0.44],\n",
       "       [0.93],\n",
       "       [0.43],\n",
       "       [0.85],\n",
       "       [0.07],\n",
       "       [0.52],\n",
       "       [0.15],\n",
       "       [0.13],\n",
       "       [0.6 ],\n",
       "       [0.4 ],\n",
       "       [0.65],\n",
       "       [0.17],\n",
       "       [0.97],\n",
       "       [0.04],\n",
       "       [0.53],\n",
       "       [0.85],\n",
       "       [0.69],\n",
       "       [0.22],\n",
       "       [0.15],\n",
       "       [0.02],\n",
       "       [0.91],\n",
       "       [0.76],\n",
       "       [0.19],\n",
       "       [0.62],\n",
       "       [0.17],\n",
       "       [0.69],\n",
       "       [0.76],\n",
       "       [0.23],\n",
       "       [0.96],\n",
       "       [0.03],\n",
       "       [0.23],\n",
       "       [0.11],\n",
       "       [0.87],\n",
       "       [0.97],\n",
       "       [0.25],\n",
       "       [0.58],\n",
       "       [0.42],\n",
       "       [0.24],\n",
       "       [0.62],\n",
       "       [0.15],\n",
       "       [0.95],\n",
       "       [0.64],\n",
       "       [0.64],\n",
       "       [0.4 ],\n",
       "       [0.12],\n",
       "       [0.22],\n",
       "       [0.4 ],\n",
       "       [0.87],\n",
       "       [0.99],\n",
       "       [0.26],\n",
       "       [0.12],\n",
       "       [0.28],\n",
       "       [0.48],\n",
       "       [0.56],\n",
       "       [0.03],\n",
       "       [0.34],\n",
       "       [0.99],\n",
       "       [0.66],\n",
       "       [0.65],\n",
       "       [0.94],\n",
       "       [0.96],\n",
       "       [0.42],\n",
       "       [0.62],\n",
       "       [0.57],\n",
       "       [0.61],\n",
       "       [0.  ],\n",
       "       [0.3 ],\n",
       "       [0.08],\n",
       "       [0.49],\n",
       "       [0.01],\n",
       "       [0.23],\n",
       "       [0.94],\n",
       "       [0.98],\n",
       "       [0.68],\n",
       "       [0.46],\n",
       "       [0.5 ],\n",
       "       [0.13],\n",
       "       [0.46],\n",
       "       [0.36],\n",
       "       [0.87],\n",
       "       [0.36]])"
      ]
     },
     "execution_count": 17,
     "metadata": {},
     "output_type": "execute_result"
    }
   ],
   "source": [
    "#independent variable\n",
    "x1=df.iloc[:,0].values\n",
    "x1=x.reshape(-1,1)\n",
    "x1"
   ]
  },
  {
   "cell_type": "code",
   "execution_count": 18,
   "id": "8102d599",
   "metadata": {},
   "outputs": [
    {
     "data": {
      "text/plain": [
       "array([ 511.14,  717.1 ,  607.91,  270.4 ,  289.88,  830.85, 1038.09,\n",
       "        455.19,  640.17,  511.06,  177.03, 1242.52,  891.37, 1339.72,\n",
       "        169.88,  276.05,  517.43,  522.25,  932.21,  851.25,  640.11,\n",
       "        308.68, 1046.05,  332.4 ,  171.85,  109.55,  361.97,  872.21,\n",
       "        303.7 ,  256.38,  341.2 , 1194.63,  408.6 ,  895.54,  518.25,\n",
       "        638.75,  301.9 ,  163.38,  240.77, 1449.05,  609.  ,  174.59,\n",
       "        593.45,  355.96,  671.46, 1193.7 ,  278.88,  411.4 ,   42.08,\n",
       "        166.19,   58.62,  642.45,  368.14,  702.78,  615.74,  143.79,\n",
       "        109.  ,  328.28,  205.16, 1360.49,  905.83,  487.33,  202.76,\n",
       "        202.01,  148.87,  745.3 ,  503.04, 1563.82,  165.21,  438.4 ,\n",
       "         98.47,  819.63,  174.44,  483.13,  534.24,  572.31,  957.61,\n",
       "        518.29, 1143.49, 1211.31,  784.74,  283.7 ,  684.38,  719.46,\n",
       "        292.23,  775.68,  130.77,  801.6 ,  323.55,  726.9 ,  661.12,\n",
       "        771.11, 1016.14,  237.69,  325.89,  636.22,  272.12,  696.65,\n",
       "        434.53,  593.86])"
      ]
     },
     "execution_count": 18,
     "metadata": {},
     "output_type": "execute_result"
    }
   ],
   "source": [
    "#dependent variable\n",
    "y1=df.iloc[:,-1].values\n",
    "y1"
   ]
  },
  {
   "cell_type": "code",
   "execution_count": 19,
   "id": "db67d1ca",
   "metadata": {},
   "outputs": [],
   "source": [
    "from sklearn.linear_model import LinearRegression\n",
    "from sklearn.preprocessing import PolynomialFeatures\n",
    "p_reg=PolynomialFeatures(degree=4)\n",
    "x_poly1=p_reg.fit_transform(x1)"
   ]
  },
  {
   "cell_type": "code",
   "execution_count": 20,
   "id": "0e5587c6",
   "metadata": {},
   "outputs": [
    {
     "data": {
      "text/plain": [
       "LinearRegression()"
      ]
     },
     "execution_count": 20,
     "metadata": {},
     "output_type": "execute_result"
    }
   ],
   "source": [
    "#linear regression\n",
    "model3=LinearRegression()\n",
    "model3.fit(x1,y1)\n",
    "model3"
   ]
  },
  {
   "cell_type": "code",
   "execution_count": 21,
   "id": "075b8a99",
   "metadata": {},
   "outputs": [
    {
     "data": {
      "text/plain": [
       "LinearRegression()"
      ]
     },
     "execution_count": 21,
     "metadata": {},
     "output_type": "execute_result"
    }
   ],
   "source": [
    "#polynomial regression\n",
    "model4=LinearRegression()\n",
    "model4.fit(x_poly1,y1)\n",
    "model4"
   ]
  },
  {
   "cell_type": "code",
   "execution_count": 31,
   "id": "719bcb59",
   "metadata": {},
   "outputs": [
    {
     "data": {
      "text/plain": [
       "[<matplotlib.lines.Line2D at 0x179bda20100>]"
      ]
     },
     "execution_count": 31,
     "metadata": {},
     "output_type": "execute_result"
    },
    {
     "data": {
      "image/png": "[encoded data removed]",
      "text/plain": [
       "<Figure size 640x480 with 1 Axes>"
      ]
     },
     "metadata": {},
     "output_type": "display_data"
    }
   ],
   "source": [
    "#linear regression\n",
    "plt.scatter(x1,y1,c='b')\n",
    "plt.plot(x1,model3.predict(x1),c='y')"
   ]
  },
  {
   "cell_type": "code",
   "execution_count": 32,
   "id": "9fad73bf",
   "metadata": {},
   "outputs": [
    {
     "data": {
      "text/plain": [
       "[<matplotlib.lines.Line2D at 0x179bda838b0>]"
      ]
     },
     "execution_count": 32,
     "metadata": {},
     "output_type": "execute_result"
    },
    {
     "data": {
      "image/png": "[encoded data removed]",
      "text/plain": [
       "<Figure size 640x480 with 1 Axes>"
      ]
     },
     "metadata": {},
     "output_type": "display_data"
    }
   ],
   "source": [
    "#polynomial regression\n",
    "plt.scatter(x1,y1,c='b')\n",
    "plt.plot(x1,model4.predict(p_reg.fit_transform(x1)),c='y')"
   ]
  },
  {
   "cell_type": "raw",
   "id": "99c2afc7",
   "metadata": {},
   "source": [
    "Degree=3"
   ]
  },
  {
   "cell_type": "code",
   "execution_count": 27,
   "id": "1dd286f0",
   "metadata": {},
   "outputs": [],
   "source": [
    "from sklearn.linear_model import LinearRegression\n",
    "from sklearn.preprocessing import PolynomialFeatures\n",
    "p_reg=PolynomialFeatures(degree=3)\n",
    "x_poly1=p_reg.fit_transform(x1)"
   ]
  },
  {
   "cell_type": "code",
   "execution_count": 29,
   "id": "a0bbdd8d",
   "metadata": {},
   "outputs": [
    {
     "data": {
      "text/plain": [
       "LinearRegression()"
      ]
     },
     "execution_count": 29,
     "metadata": {},
     "output_type": "execute_result"
    }
   ],
   "source": [
    "#polynomial regression\n",
    "model5=LinearRegression()\n",
    "model5.fit(x_poly1,y1)\n",
    "model5"
   ]
  },
  {
   "cell_type": "code",
   "execution_count": 30,
   "id": "07b23d6e",
   "metadata": {},
   "outputs": [
    {
     "data": {
      "text/plain": [
       "[<matplotlib.lines.Line2D at 0x179bd9fe790>]"
      ]
     },
     "execution_count": 30,
     "metadata": {},
     "output_type": "execute_result"
    },
    {
     "data": {
      "image/png": "[encoded data removed]",
      "text/plain": [
       "<Figure size 640x480 with 1 Axes>"
      ]
     },
     "metadata": {},
     "output_type": "display_data"
    }
   ],
   "source": [
    "#polynomial regression\n",
    "plt.scatter(x1,y1,c='b')\n",
    "plt.plot(x1,model5.predict(p_reg.fit_transform(x1)),c='y')"
   ]
  }
 ],
 "metadata": {
  "kernelspec": {
   "display_name": "Python 3 (ipykernel)",
   "language": "python",
   "name": "python3"
  },
  "language_info": {
   "codemirror_mode": {
    "name": "ipython",
    "version": 3
   },
   "file_extension": ".py",
   "mimetype": "text/x-python",
   "name": "python",
   "nbconvert_exporter": "python",
   "pygments_lexer": "ipython3",
   "version": "3.9.13"
  }
 },
 "nbformat": 4,
 "nbformat_minor": 5
}
